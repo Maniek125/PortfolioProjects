{
 "cells": [
  {
   "cell_type": "code",
   "execution_count": null,
   "metadata": {},
   "outputs": [],
   "source": [
    "#costma"
   ]
  },
  {
   "cell_type": "code",
   "execution_count": 118,
   "metadata": {},
   "outputs": [],
   "source": [
    "import csv\n",
    "\n",
    "with open('kaggle2021-short.csv') as f:\n",
    "    reader = csv.reader(f, delimiter=\",\")\n",
    "    kaggle_data = list(reader)\n",
    "\n",
    "column_names = kaggle_data[0]\n",
    "survey_responses = kaggle_data[1:]\n"
   ]
  },
  {
   "cell_type": "code",
   "execution_count": 119,
   "metadata": {},
   "outputs": [],
   "source": [
    "# Iterate over the indices so that we can update all of the data\n",
    "num_rows = len(survey_responses)\n",
    "for i in range(num_rows):\n",
    "\n",
    "    # experience_coding\n",
    "    survey_responses[i][0] = float(survey_responses[i][0]) \n",
    "    \n",
    "    # python_user\n",
    "    if survey_responses[i][1] == \"TRUE\":\n",
    "        survey_responses[i][1] = True\n",
    "    else:\n",
    "        survey_responses[i][1] = False\n",
    "    \n",
    "    # r_user\n",
    "    if survey_responses[i][2] == \"TRUE\":\n",
    "        survey_responses[i][2] = True\n",
    "    else:\n",
    "        survey_responses[i][2] = False\n",
    "\n",
    "    # sql_user\n",
    "    if survey_responses[i][3] == \"TRUE\":\n",
    "        survey_responses[i][3] = True\n",
    "    else:\n",
    "        survey_responses[i][3] = False\n",
    "\n",
    "    # most_used\n",
    "    if survey_responses[i][4] == \"None\":\n",
    "        survey_responses[i][4] = None\n",
    "    else:\n",
    "        survey_responses[i][4] = survey_responses[i][4]\n",
    "\n",
    "\n",
    "    # compensation\n",
    "    survey_responses[i][5] = int(survey_responses[i][5])    "
   ]
  },
  {
   "cell_type": "code",
   "execution_count": 120,
   "metadata": {},
   "outputs": [
    {
     "name": "stdout",
     "output_type": "stream",
     "text": [
      "Number of Python users: 21860\n",
      "Number of R users: 5335\n",
      "Number of SQL users: 10757\n",
      "Proportion of Python users: 0.8416432449081739\n",
      "Proportion of R users: 0.20540561352173412\n",
      "Proportion of SQL users: 0.4141608593539445\n"
     ]
    }
   ],
   "source": [
    "num_rows = len(survey_responses)\n",
    "python_user_count = 0\n",
    "r_user_count = 0\n",
    "sql_user_count = 0\n",
    "\n",
    "for i in range(num_rows):\n",
    "\n",
    "    # Detect if python_user column is True\n",
    "    if survey_responses[i][1]:\n",
    "        python_user_count = python_user_count + 1\n",
    "    \n",
    "    # Detect if r_user column is True\n",
    "    if survey_responses[i][2]:\n",
    "        r_user_count = r_user_count + 1\n",
    "\n",
    "    # Detect if sql_user column is True\n",
    "    if survey_responses[i][3]:\n",
    "        sql_user_count = sql_user_count + 1\n",
    "\n",
    "print(\"Number of Python users: \" + str(python_user_count))\n",
    "print(\"Number of R users: \" + str(r_user_count))\n",
    "print(\"Number of SQL users: \" + str(sql_user_count))\n",
    "\n",
    "print(\"Proportion of Python users: \" + str(python_user_count / num_rows))\n",
    "print(\"Proportion of R users: \" + str(r_user_count  / num_rows))\n",
    "print(\"Proportion of SQL users: \" + str(sql_user_count  / num_rows))"
   ]
  },
  {
   "cell_type": "code",
   "execution_count": 121,
   "metadata": {},
   "outputs": [
    {
     "name": "stdout",
     "output_type": "stream",
     "text": [
      "The longest experience: 30.0\n",
      "The shortest experience: 0.0\n",
      "Average experience of all users: 5.3\n",
      "The highest salary: 1492951 $\n",
      "The smallest salary: 0 $\n",
      "Average salaries of all users: 53252.82 $\n"
     ]
    }
   ],
   "source": [
    "experience_coding = []\n",
    "compensation = []\n",
    "\n",
    "for row in survey_responses:\n",
    "    experience_coding.append(row[0])\n",
    "    compensation.append(row[5])\n",
    "    \n",
    "maximum_experience = max(experience_coding)\n",
    "minimum_experience = min(experience_coding) \n",
    "average_experience = round((sum(experience_coding)) / (len(experience_coding)),2)\n",
    "\n",
    "maximum_experience_comp = max(compensation)\n",
    "minimum_experience_comp = min(compensation) \n",
    "average_experience_comp = round((sum(compensation)) / (len(compensation)),2)\n",
    "\n",
    "print(\"The longest experience:\", maximum_experience)\n",
    "print(\"The shortest experience:\", minimum_experience)\n",
    "print(\"Average experience of all users:\",average_experience)\n",
    "print(\"The highest salary:\",maximum_experience_comp,\"$\")\n",
    "print(\"The smallest salary:\",minimum_experience_comp,\"$\")\n",
    "print(\"Average salaries of all users:\",average_experience_comp,\"$\")"
   ]
  },
  {
   "cell_type": "code",
   "execution_count": 122,
   "metadata": {},
   "outputs": [
    {
     "name": "stdout",
     "output_type": "stream",
     "text": [
      "[[12.3, True, True, True, 'Scikit-learn', 236889, '10-15 Years'], [2.2, True, False, False, None, 74321, '<5 Years'], [2.7, False, False, True, None, 62593, '<5 Years'], [1.2, True, False, False, 'Scikit-learn', 36288, '<5 Years']]\n"
     ]
    }
   ],
   "source": [
    "\n",
    "for i in range(num_rows):\n",
    "\n",
    "    if survey_responses[i][0] < 5:\n",
    "        survey_responses[i].append(\"<5 Years\")\n",
    "    \n",
    "    elif survey_responses[i][0] >= 5 and survey_responses[i][0] < 10:\n",
    "        survey_responses[i].append(\"5-10 Years\")\n",
    "\n",
    "    elif survey_responses[i][0] >= 10 and survey_responses[i][0] < 15:\n",
    "        survey_responses[i].append(\"10-15 Years\")\n",
    "    \n",
    "    elif survey_responses[i][0] >= 15 and survey_responses[i][0] < 20:\n",
    "        survey_responses[i].append(\"15-20 Years\")\n",
    "\n",
    "    elif survey_responses[i][0] >= 20 and survey_responses[i][0] < 25:\n",
    "        survey_responses[i].append(\"20-25 Years\")\n",
    "    \n",
    "    else:\n",
    "        survey_responses[i].append(\"25+ Years\")\n",
    "print(survey_responses[1:5])"
   ]
  },
  {
   "cell_type": "code",
   "execution_count": null,
   "metadata": {},
   "outputs": [],
   "source": [
    "List_below_5 = []\n",
    "List_5_10 = []\n",
    "List_10_15 = []\n",
    "List_15_20 = []\n",
    "List_20_25 = []\n",
    "List_above_25 = []\n",
    "\n",
    "for i in range(num_rows):\n",
    "\n",
    "    if survey_responses[i][6] == \"<5 Years\":\n",
    "        List_below_5.append(survey_responses[i][5])\n",
    "        \n",
    "        \n",
    "    \n",
    "    elif survey_responses[i][6] == \"5-10 Years\":\n",
    "        List_5_10.append(survey_responses[i][5])\n",
    "\n",
    "    elif survey_responses[i][6] == \"10-15 Years\":\n",
    "        List_10_15.append(survey_responses[i][5])\n",
    "    \n",
    "    elif survey_responses[i][6] == \"15-20 Years\":\n",
    "        List_15_20.append(survey_responses[i][5])\n",
    "\n",
    "    elif survey_responses[i][6] == \"20-25 Years\":\n",
    "        List_20_25.append(survey_responses[i][5])\n",
    "    \n",
    "    else:\n",
    "        List_above_25.append(survey_responses[i][5])\n"
   ]
  },
  {
   "cell_type": "code",
   "execution_count": 125,
   "metadata": {},
   "outputs": [
    {
     "name": "stdout",
     "output_type": "stream",
     "text": [
      "18753 people have 0-5 years of experience\n",
      "3167 people have 5-10 years of experience\n",
      "1118 people have 10-15 years of experience\n",
      "1069 people have 15-20 years of experience\n",
      "925 people have 20-25 years of experience\n",
      "941 people have +25 years of experience\n"
     ]
    }
   ],
   "source": [
    "print(len(List_below_5) ,\"people have 0-5 years of experience\")\n",
    "print(len(List_5_10) ,\"people have 5-10 years of experience\")\n",
    "print(len(List_10_15) ,\"people have 10-15 years of experience\")\n",
    "print(len(List_15_20) ,\"people have 15-20 years of experience\")\n",
    "print(len(List_20_25) ,\"people have 20-25 years of experience\")\n",
    "print(len(List_above_25) ,\"people have +25 years of experience\")\n"
   ]
  },
  {
   "cell_type": "code",
   "execution_count": 132,
   "metadata": {},
   "outputs": [
    {
     "name": "stdout",
     "output_type": "stream",
     "text": [
      "People with 0 - 5 years of experience have an average salary of $ 45047.87\n",
      "People with 5 - 10 years of experience have an average salary of $ 59312.82\n",
      "People with 10 - 15 years of experience have an average salary of $ 80226.76\n",
      "People with 15 - 20 years of experience have an average salary of $ 75101.83\n",
      "People with 20 - 25 years of experience have an average salary of $ 103159.8\n",
      "People with +25 years of experience have an average salary of $ 90444.99\n"
     ]
    }
   ],
   "source": [
    "print(\"People with 0 - 5 years of experience have an average salary of $\",round(((sum(List_below_5)/len(List_below_5))),2))\n",
    "print(\"People with 5 - 10 years of experience have an average salary of $\",round(((sum(List_5_10)/len(List_5_10))),2))\n",
    "print(\"People with 10 - 15 years of experience have an average salary of $\",round(((sum(List_10_15)/len(List_10_15))),2))\n",
    "print(\"People with 15 - 20 years of experience have an average salary of $\",round(((sum(List_15_20)/len(List_15_20))),2))\n",
    "print(\"People with 20 - 25 years of experience have an average salary of $\",round(((sum(List_20_25)/len(List_20_25))),2))\n",
    "print(\"People with +25 years of experience have an average salary of $\",round(((sum(List_above_25)/len(List_above_25))),2))\n"
   ]
  },
  {
   "cell_type": "markdown",
   "metadata": {},
   "source": [
    "## 1 Question. What does the distribution of the experience categories look like? Is there an even spread of new and experienced programmers?\n",
    "\n",
    "The distribution of the number of people, regarding programming experience is uneven. The number of people with less than 5 years of experience definitely prevails. Probably this is due to the fact that programming is a fairly young field of work.\n",
    "\n",
    "\n",
    "## 2 Question. How does average compensation change as a programmer gains experience? Is there a general trend that holds? Are there interesting changes from one category to the next?\n",
    "\n",
    "Here there is no surprise. The more experience, the higher the salary, as in many other professions. An interesting result is the average salary of those with the most experience.  Contrary to the trend, it is not the highest. \n",
    "\n",
    "\n",
    "## 3 Question. Are there any extreme values in the data? These can influence the average and mislead us on what a \"typical\" value is.\n",
    "\n",
    "I did not find results significantly above average\n",
    "\n",
    "\n",
    "## 4 Question. What are the most commonly used skills among survey respondents?\n",
    "\n",
    "85% of those surveyed said they were familiar with Python. In second place is SQL with 41%."
   ]
  }
 ],
 "metadata": {
  "kernelspec": {
   "display_name": "Python 3 (ipykernel)",
   "language": "python",
   "name": "python3"
  },
  "language_info": {
   "codemirror_mode": {
    "name": "ipython",
    "version": 3
   },
   "file_extension": ".py",
   "mimetype": "text/x-python",
   "name": "python",
   "nbconvert_exporter": "python",
   "pygments_lexer": "ipython3",
   "version": "3.10.6"
  }
 },
 "nbformat": 4,
 "nbformat_minor": 4
}
git rm
